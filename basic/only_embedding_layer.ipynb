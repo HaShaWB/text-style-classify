{
 "cells": [
  {
   "cell_type": "markdown",
   "metadata": {},
   "source": [
    "## 임베딩 레이어 추출"
   ]
  },
  {
   "cell_type": "code",
   "execution_count": null,
   "metadata": {},
   "outputs": [],
   "source": [
    "import os\n",
    "import torch\n",
    "from transformers import AutoTokenizer, AutoModel\n",
    "import torch.nn as nn\n",
    "\n",
    "\n",
    "path = os.path.dirname(os.path.abspath(\"tokenizer.ipynb\"))\n",
    "model_name = \"MLP-KTLim/llama-3-Korean-Bllossom-8B\"\n"
   ]
  },
  {
   "cell_type": "code",
   "execution_count": null,
   "metadata": {},
   "outputs": [],
   "source": [
    "tokenizer = AutoTokenizer.from_pretrained(model_name, cache_dir=path)"
   ]
  },
  {
   "cell_type": "code",
   "execution_count": null,
   "metadata": {},
   "outputs": [],
   "source": [
    "model = AutoModel.from_pretrained(model_name)"
   ]
  },
  {
   "cell_type": "code",
   "execution_count": null,
   "metadata": {},
   "outputs": [],
   "source": [
    "embedding_layer = model.get_input_embeddings()\n",
    "\n",
    "# 임베딩 레이어를 추출한 후 이를 별도의 nn.Module로 래핑합니다.\n",
    "class EmbeddingsOnlyModel(nn.Module):\n",
    "    def __init__(self, embedding_layer):\n",
    "        super(EmbeddingsOnlyModel, self).__init__()\n",
    "        self.embeddings = embedding_layer\n",
    "\n",
    "    def forward(self, input_ids):\n",
    "        return self.embeddings(input_ids)\n",
    "\n",
    "# 래핑된 모델 생성\n",
    "embeddings_only_model = EmbeddingsOnlyModel(embedding_layer)\n",
    "\n",
    "# 래핑된 모델을 저장합니다.\n",
    "model_path = \"embeddings_only_model.pth\"\n",
    "torch.save(embeddings_only_model.state_dict(), model_path)"
   ]
  },
  {
   "cell_type": "markdown",
   "metadata": {},
   "source": [
    "## 임베딩 레이어 로딩"
   ]
  },
  {
   "cell_type": "code",
   "execution_count": null,
   "metadata": {},
   "outputs": [],
   "source": [
    "import torch\n",
    "from transformers import AutoTokenizer\n",
    "import torch.nn as nn\n",
    "\n",
    "# Llama3 모델의 토크나이저를 불러옵니다.\n",
    "model_name = \"MLP-KTLim/llama-3-Korean-Bllossom-8B\"  # 모델 이름을 Llama3 모델로 대체하세요.\n",
    "tokenizer = AutoTokenizer.from_pretrained(model_name)\n",
    "\n",
    "# 임베딩 레이어를 정의합니다.\n",
    "embedding_layer = nn.Embedding.from_pretrained(torch.empty((128256, 4096)))  # 크기는 예시입니다.\n",
    "\n",
    "# 임베딩 레이어를 추출한 후 이를 별도의 nn.Module로 래핑합니다.\n",
    "class EmbeddingsOnlyModel(nn.Module):\n",
    "    def __init__(self, embedding_layer):\n",
    "        super(EmbeddingsOnlyModel, self).__init__()\n",
    "        self.embeddings = embedding_layer\n",
    "\n",
    "    def forward(self, input_ids):\n",
    "        return self.embeddings(input_ids)\n",
    "\n",
    "# 래핑된 모델 인스턴스를 생성합니다.\n",
    "embeddings_only_model = EmbeddingsOnlyModel(embedding_layer)\n",
    "\n",
    "# 저장된 모델 상태를 불러옵니다.\n",
    "model_path = \"embeddings_only_model.pth\"\n",
    "embeddings_only_model.load_state_dict(torch.load(model_path))\n",
    "print(\"Wrapped model loaded\")\n",
    "\n",
    "# 테스트: 토크나이저를 사용하여 입력 텍스트를 토큰화하고, 임베딩 레이어를 통해 임베딩을 계산합니다.\n",
    "input_text = \"안녕 얘들아!! 오랬만이야\"\n",
    "input_ids = tokenizer(input_text, return_tensors=\"pt\")[\"input_ids\"]\n",
    "embeddings = embeddings_only_model(input_ids)\n",
    "\n",
    "embeddings"
   ]
  }
 ],
 "metadata": {
  "kernelspec": {
   "display_name": "style",
   "language": "python",
   "name": "python3"
  },
  "language_info": {
   "codemirror_mode": {
    "name": "ipython",
    "version": 3
   },
   "file_extension": ".py",
   "mimetype": "text/x-python",
   "name": "python",
   "nbconvert_exporter": "python",
   "pygments_lexer": "ipython3",
   "version": "3.10.0"
  }
 },
 "nbformat": 4,
 "nbformat_minor": 2
}
