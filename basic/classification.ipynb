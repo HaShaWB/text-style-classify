{
 "cells": [
  {
   "cell_type": "markdown",
   "metadata": {},
   "source": [
    "### 라이브러리 임포트"
   ]
  },
  {
   "cell_type": "code",
   "execution_count": 1,
   "metadata": {},
   "outputs": [
    {
     "name": "stderr",
     "output_type": "stream",
     "text": [
      "c:\\Users\\white\\anaconda3\\envs\\style\\lib\\site-packages\\tqdm\\auto.py:21: TqdmWarning: IProgress not found. Please update jupyter and ipywidgets. See https://ipywidgets.readthedocs.io/en/stable/user_install.html\n",
      "  from .autonotebook import tqdm as notebook_tqdm\n"
     ]
    }
   ],
   "source": [
    "import torch\n",
    "import torch.nn as nn\n",
    "from transformers import AutoTokenizer"
   ]
  },
  {
   "cell_type": "markdown",
   "metadata": {},
   "source": [
    "## 모델 정의"
   ]
  },
  {
   "cell_type": "markdown",
   "metadata": {},
   "source": [
    "### embedding layer (동결)"
   ]
  },
  {
   "cell_type": "code",
   "execution_count": 2,
   "metadata": {},
   "outputs": [
    {
     "name": "stderr",
     "output_type": "stream",
     "text": [
      "Special tokens have been added in the vocabulary, make sure the associated word embeddings are fine-tuned or trained.\n"
     ]
    },
    {
     "data": {
      "text/plain": [
       "<All keys matched successfully>"
      ]
     },
     "execution_count": 2,
     "metadata": {},
     "output_type": "execute_result"
    }
   ],
   "source": [
    "# Llama3 모델의 토크나이저를 불러옵니다.\n",
    "model_name = \"MLP-KTLim/llama-3-Korean-Bllossom-8B\"\n",
    "tokenizer = AutoTokenizer.from_pretrained(model_name)\n",
    "\n",
    "# 임베딩 레이어를 정의합니다.\n",
    "embedding_layer = nn.Embedding.from_pretrained(torch.empty((128256, 4096)))  # 크기는 예시입니다.\n",
    "\n",
    "# 임베딩 레이어를 추출한 후 이를 별도의 nn.Module로 래핑합니다.\n",
    "class EmbeddingsOnlyModel(nn.Module):\n",
    "    def __init__(self, embedding_layer):\n",
    "        super(EmbeddingsOnlyModel, self).__init__()\n",
    "        self.embeddings = embedding_layer\n",
    "\n",
    "    def forward(self, input_ids):\n",
    "        return self.embeddings(input_ids)\n",
    "\n",
    "# 래핑된 모델 인스턴스를 생성합니다.\n",
    "embeddings_only_model = EmbeddingsOnlyModel(embedding_layer)\n",
    "\n",
    "# 저장된 모델 상태를 불러옵니다.\n",
    "model_path = \"embeddings_only_model.pth\"\n",
    "embeddings_only_model.load_state_dict(torch.load(model_path))"
   ]
  },
  {
   "cell_type": "code",
   "execution_count": 3,
   "metadata": {},
   "outputs": [],
   "source": [
    "for param in embeddings_only_model.parameters():\n",
    "    param.requires_grad = False"
   ]
  },
  {
   "cell_type": "markdown",
   "metadata": {},
   "source": [
    "### Transformer is what I need"
   ]
  },
  {
   "cell_type": "code",
   "execution_count": 5,
   "metadata": {},
   "outputs": [],
   "source": [
    "# 트랜스포머 인코더 레이어 정의\n",
    "class TransformerEncoderLayer(nn.Module):\n",
    "    def __init__(self, embed_dim, num_heads):\n",
    "        super(TransformerEncoderLayer, self).__init__()\n",
    "        self.encoder_layer = nn.TransformerEncoderLayer(d_model=embed_dim, nhead=num_heads)\n",
    "        self.transformer_encoder = nn.TransformerEncoder(self.encoder_layer, num_layers=1)\n",
    "\n",
    "    def forward(self, x):\n",
    "        return self.transformer_encoder(x)"
   ]
  },
  {
   "cell_type": "markdown",
   "metadata": {},
   "source": [
    "### 최종 모델"
   ]
  },
  {
   "cell_type": "code",
   "execution_count": 6,
   "metadata": {},
   "outputs": [],
   "source": [
    "class SentenceClassificationModel(nn.Module):\n",
    "    def __init__(self, embedding_layer, embed_dim, num_heads, num_classes):\n",
    "        super(SentenceClassificationModel, self).__init__()\n",
    "        self.embeddings = embedding_layer\n",
    "        self.transformer_encoder = TransformerEncoderLayer(embed_dim, num_heads)\n",
    "        self.fc = nn.Sequential(\n",
    "            nn.Linear(embed_dim, 1024),\n",
    "            nn.ReLU(),\n",
    "            nn.Linear(1024, num_classes)\n",
    "        )\n",
    "\n",
    "    def forward(self, input_ids):\n",
    "        x = self.embeddings(input_ids)\n",
    "        x = x.transpose(0, 1)  # 트랜스포머 인코더를 위해 차원 변환\n",
    "        x = self.transformer_encoder(x)\n",
    "        x = x.mean(dim=0)  # 인코더 출력의 평균을 구하여 문장 벡터로 변환\n",
    "        x = self.fc(x)\n",
    "        return x"
   ]
  },
  {
   "cell_type": "code",
   "execution_count": 7,
   "metadata": {},
   "outputs": [
    {
     "name": "stderr",
     "output_type": "stream",
     "text": [
      "c:\\Users\\white\\anaconda3\\envs\\style\\lib\\site-packages\\torch\\nn\\modules\\transformer.py:306: UserWarning: enable_nested_tensor is True, but self.use_nested_tensor is False because encoder_layer.self_attn.batch_first was not True(use batch_first for better inference performance)\n",
      "  warnings.warn(f\"enable_nested_tensor is True, but self.use_nested_tensor is False because {why_not_sparsity_fast_path}\")\n",
      "Special tokens have been added in the vocabulary, make sure the associated word embeddings are fine-tuned or trained.\n"
     ]
    }
   ],
   "source": [
    "# 모델 생성\n",
    "embedding_layer = nn.Embedding(128256, 4096)  # 크기는 예시입니다.\n",
    "embed_dim = 4096\n",
    "num_heads = 8\n",
    "num_classes = 10\n",
    "model = SentenceClassificationModel(embedding_layer, embed_dim, num_heads, num_classes)\n",
    "\n",
    "# 입력 텍스트를 토큰화합니다.\n",
    "tokenizer = AutoTokenizer.from_pretrained(\"MLP-KTLim/llama-3-Korean-Bllossom-8B\")\n",
    "input_text = \"안녕 얘들아!! 오랬만이야\"\n",
    "input_ids = tokenizer(input_text, return_tensors=\"pt\")[\"input_ids\"]"
   ]
  },
  {
   "cell_type": "code",
   "execution_count": 8,
   "metadata": {},
   "outputs": [
    {
     "name": "stdout",
     "output_type": "stream",
     "text": [
      "Classification output: tensor([[ 0.0857, -0.1204,  0.0028,  0.0718, -0.0267,  0.0072, -0.0139,  0.0991,\n",
      "          0.0881, -0.0636]])\n"
     ]
    }
   ],
   "source": [
    "# 모델을 사용하여 예측합니다.\n",
    "model.eval()\n",
    "with torch.no_grad():\n",
    "    output = model(input_ids)\n",
    "    print(\"Classification output:\", output)"
   ]
  },
  {
   "cell_type": "code",
   "execution_count": null,
   "metadata": {},
   "outputs": [],
   "source": []
  }
 ],
 "metadata": {
  "kernelspec": {
   "display_name": "style",
   "language": "python",
   "name": "python3"
  },
  "language_info": {
   "codemirror_mode": {
    "name": "ipython",
    "version": 3
   },
   "file_extension": ".py",
   "mimetype": "text/x-python",
   "name": "python",
   "nbconvert_exporter": "python",
   "pygments_lexer": "ipython3",
   "version": "3.10.0"
  }
 },
 "nbformat": 4,
 "nbformat_minor": 2
}
