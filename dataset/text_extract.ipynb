{
 "cells": [
  {
   "cell_type": "code",
   "execution_count": 12,
   "metadata": {},
   "outputs": [],
   "source": [
    "import json\n",
    "import pandas as pd\n",
    "import os\n",
    "\n",
    "name = 'tech'\n",
    "\n",
    "\n",
    "# JSON 파일들이 있는 디렉토리 경로\n",
    "json_directory_path = f'{name}/'  # 이 경로를 실제 경로로 변경하세요\n",
    "# 결과 CSV 파일 경로\n",
    "combined_csv_file_path = f'{name}.csv'\n",
    "\n",
    "# 데이터를 저장할 리스트\n",
    "all_rows = []\n",
    "\n",
    "def standard_author(author):\n",
    "    author = author = author.replace(',', ';').replace('&', ';').replace(' and ', ';').replace('그리고 ', ';').replace('와 ', ';').replace('과 ', ';')\n",
    "    author_list = author.split(';')\n",
    "    author_list = [x.strip().split(\" \")[0] for x in author_list]\n",
    "    author = ';'.join(author_list)\n",
    "    return author\n",
    "\n",
    "# 디렉토리 내의 모든 JSON 파일 처리\n",
    "for filename in os.listdir(json_directory_path):\n",
    "    if filename.endswith('.json'):\n",
    "        json_file_path = os.path.join(json_directory_path, filename)\n",
    "        with open(json_file_path, 'r', encoding='utf-8') as json_file:\n",
    "            data = json.load(json_file)\n",
    "        \n",
    "        # JSON 데이터에서 필요한 정보 추출\n",
    "        for item in data['paragraph']:\n",
    "            author = item['info']['Author']\n",
    "            author = standard_author(author)\n",
    "            classify_1 = item['info']['Classify_1']\n",
    "            classify_2 = item['info']['Classify_2']\n",
    "            classify_3 = item['info']['Classify_3']\n",
    "            \n",
    "            for sentence in item['sentences']:\n",
    "                src_sentence = sentence['src_sentence']\n",
    "                all_rows.append([author, classify_1, classify_2, classify_3, src_sentence])\n",
    "\n",
    "# pandas DataFrame 생성\n",
    "combined_df = pd.DataFrame(all_rows, columns=['Author', 'Classify_1', 'Classify_2', 'Classify_3', 'src_sentence'])\n",
    "\n",
    "# DataFrame을 CSV 파일로 저장\n",
    "combined_df.to_csv(combined_csv_file_path, index=False, encoding='utf-8')"
   ]
  },
  {
   "cell_type": "code",
   "execution_count": 6,
   "metadata": {},
   "outputs": [],
   "source": []
  },
  {
   "cell_type": "code",
   "execution_count": null,
   "metadata": {},
   "outputs": [],
   "source": []
  }
 ],
 "metadata": {
  "kernelspec": {
   "display_name": "style",
   "language": "python",
   "name": "python3"
  },
  "language_info": {
   "codemirror_mode": {
    "name": "ipython",
    "version": 3
   },
   "file_extension": ".py",
   "mimetype": "text/x-python",
   "name": "python",
   "nbconvert_exporter": "python",
   "pygments_lexer": "ipython3",
   "version": "3.10.0"
  }
 },
 "nbformat": 4,
 "nbformat_minor": 2
}
